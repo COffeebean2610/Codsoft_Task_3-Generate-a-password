{
 "cells": [
  {
   "cell_type": "code",
   "execution_count": 1,
   "id": "188928c5",
   "metadata": {},
   "outputs": [
    {
     "name": "stdout",
     "output_type": "stream",
     "text": [
      "Enter the desired length of the password: 5\n",
      "Generated password: NSQPD\n"
     ]
    }
   ],
   "source": [
    "import string\n",
    "import random\n",
    "\n",
    "def generate_password(length):\n",
    "    # Define the characters to be used in the password\n",
    "    characters = string.ascii_letters + string.digits + string.punctuation\n",
    "    \n",
    "    # Generate a random password\n",
    "    password = ''.join(random.choice(characters) for _ in range(length))\n",
    "    \n",
    "    return password\n",
    "\n",
    "def main():\n",
    "    try:\n",
    "        # Prompt the user to specify the desired length of the password\n",
    "        length = int(input(\"Enter the desired length of the password: \"))\n",
    "        \n",
    "        # Validate the length\n",
    "        if length <= 0:\n",
    "            print(\"The length should be a positive integer.\")\n",
    "            return\n",
    "        \n",
    "        # Generate the password\n",
    "        password = generate_password(length)\n",
    "        \n",
    "        # Display the password\n",
    "        print(f\"Generated password: {password}\")\n",
    "    \n",
    "    except ValueError:\n",
    "        print(\"Please enter a valid integer for the password length.\")\n",
    "\n",
    "if __name__ == \"__main__\":\n",
    "    main()\n"
   ]
  },
  {
   "cell_type": "code",
   "execution_count": null,
   "id": "b189b1d6",
   "metadata": {},
   "outputs": [],
   "source": []
  }
 ],
 "metadata": {
  "kernelspec": {
   "display_name": "Python 3 (ipykernel)",
   "language": "python",
   "name": "python3"
  },
  "language_info": {
   "codemirror_mode": {
    "name": "ipython",
    "version": 3
   },
   "file_extension": ".py",
   "mimetype": "text/x-python",
   "name": "python",
   "nbconvert_exporter": "python",
   "pygments_lexer": "ipython3",
   "version": "3.11.5"
  }
 },
 "nbformat": 4,
 "nbformat_minor": 5
}
